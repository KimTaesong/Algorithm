{
 "cells": [
  {
   "cell_type": "code",
   "execution_count": 3,
   "metadata": {},
   "outputs": [
    {
     "name": "stdout",
     "output_type": "stream",
     "text": [
      "7\n"
     ]
    }
   ],
   "source": [
    "K = int(input()) # K개의 숫자\n",
    "stack = []\n",
    "stack_sum = 0\n",
    "for i in range(K):\n",
    "    num = int(input())\n",
    "    \n",
    "    if num != 0:\n",
    "        stack.append(num)\n",
    "    else:\n",
    "        if stack:\n",
    "            stack.pop()\n",
    "        else:\n",
    "            pass\n",
    "print(sum(stack))"
   ]
  },
  {
   "cell_type": "code",
   "execution_count": 4,
   "metadata": {},
   "outputs": [
    {
     "name": "stdout",
     "output_type": "stream",
     "text": [
      "15\n",
      "push 1\n",
      "push 2\n",
      "front\n",
      "back\n",
      "size\n",
      "empty\n",
      "pop\n",
      "pop\n",
      "pop\n",
      "size\n",
      "empty\n",
      "pop\n",
      "push 3\n",
      "empty\n",
      "front\n",
      "1\n",
      "2\n",
      "2\n",
      "0\n",
      "1\n",
      "2\n",
      "-1\n",
      "0\n",
      "1\n",
      "-1\n",
      "0\n",
      "3\n"
     ]
    }
   ],
   "source": [
    "# 큐 2 18258\n",
    "from collections import deque\n",
    "import sys\n",
    "N = int(sys.stdin.readline()) # 명령의 수\n",
    "answer = []\n",
    "queue = deque()\n",
    "for i in range(N):\n",
    "    command = sys.stdin.readline().rstrip().split() # 명령어\n",
    "    cmd = command[0]\n",
    "    if cmd == 'push':\n",
    "        queue.append(int(command[1]))\n",
    "    if cmd == 'front':\n",
    "        if queue:\n",
    "            answer.append(queue[0])\n",
    "        else:\n",
    "            answer.append(-1)\n",
    "    if cmd == 'back':\n",
    "        if queue:\n",
    "            answer.append(queue[-1])\n",
    "        else:\n",
    "            answer.append(-1)\n",
    "    if cmd == 'empty':\n",
    "        if queue:\n",
    "            answer.append(0)\n",
    "        else:\n",
    "            answer.append(1)\n",
    "    if cmd == 'pop':\n",
    "        if queue:\n",
    "            pop_num = queue.popleft()\n",
    "            answer.append(pop_num)\n",
    "        else:\n",
    "            answer.append(-1)\n",
    "    if cmd == 'size':\n",
    "        answer.append(len(queue))\n",
    "\n",
    "for _ in answer:\n",
    "    print(_)\n",
    "\n",
    "# # 큐 2 18258\n",
    "# from collections import deque\n",
    "# N = int(input()) # 명령의 수\n",
    "# answer = []\n",
    "# queue = deque()\n",
    "# for i in range(N):\n",
    "#     command = input().split() # 명령어\n",
    "#     cmd = command[0]\n",
    "#     if cmd == 'push':\n",
    "#         queue.append(int(command[1]))\n",
    "#     if cmd == 'front':\n",
    "#         if queue:\n",
    "#             print(queue[0])\n",
    "#         else:\n",
    "#             print(-1)\n",
    "#     if cmd == 'back':\n",
    "#         if queue:\n",
    "#             print(queue[-1])\n",
    "#         else:\n",
    "#             print(-1)\n",
    "#     if cmd == 'empty':\n",
    "#         if queue:\n",
    "#             print(0)\n",
    "#         else:\n",
    "#             print(1)\n",
    "#     if cmd == 'pop':\n",
    "#         if queue:\n",
    "#             pop_num = queue.popleft()\n",
    "#             print(pop_num)\n",
    "#         else:\n",
    "#             print(-1)\n",
    "#     if cmd == 'size':\n",
    "#         print(len(queue))\n",
    "        "
   ]
  },
  {
   "cell_type": "code",
   "execution_count": 12,
   "metadata": {},
   "outputs": [
    {
     "name": "stdout",
     "output_type": "stream",
     "text": [
      "6\n",
      "4\n"
     ]
    }
   ],
   "source": [
    "# BOJ 카드2 2164 - 덱으로 문제 해결\n",
    "from collections import deque\n",
    "queue = deque()\n",
    "N = int(input())\n",
    "last_card = 0\n",
    "for i in range(1, N+1):\n",
    "    queue.append(i)\n",
    "\n",
    "def last_card_print(queue):\n",
    "    while queue:\n",
    "        if(len(queue) == 1):\n",
    "            return queue.popleft()\n",
    "        elif(len(queue) == 2):\n",
    "            return queue.pop()\n",
    "        else:\n",
    "            trash_card = queue.popleft()\n",
    "            bottom_card = queue.popleft()\n",
    "            queue.append(bottom_card)\n",
    "\n",
    "print(last_card_print(queue))\n",
    "\n",
    "# # BOJ 카드2 2164 - 스택으로 풀면 시간 초과\n",
    "# stack = []\n",
    "# N = int(input())\n",
    "# last_card = 0\n",
    "# for i in range(1,N+1):\n",
    "#     stack.append(i)\n",
    "\n",
    "# def last_card_print(stack):\n",
    "#     while stack:\n",
    "#         if(len(stack) == 1):\n",
    "#             return stack.pop()\n",
    "#         elif(len(stack) == 2):\n",
    "#             return stack.pop()\n",
    "#         else:\n",
    "#             trash_card = stack.pop(0)\n",
    "#             bottom_card = stack.pop(0)\n",
    "#             stack.append(bottom_card)\n",
    "\n",
    "# print(last_card_print(stack))\n"
   ]
  },
  {
   "cell_type": "code",
   "execution_count": 2,
   "metadata": {},
   "outputs": [
    {
     "name": "stdout",
     "output_type": "stream",
     "text": [
      "9\n",
      "7\n"
     ]
    }
   ],
   "source": [
    "def divide(x, y, length):\n",
    "    global blue_paper, white_paper\n",
    "    \n",
    "    init = graph[y][x]\n",
    "    check = True\n",
    "    \n",
    "    for i in range(y, y+length):\n",
    "        if not check:\n",
    "            break\n",
    "        for j in range(x, x+length):\n",
    "            if init != graph[i][j]:\n",
    "                check = False\n",
    "                half = length // 2\n",
    "                divide(x, y, half)\n",
    "                divide(x+ half, y, half)\n",
    "                divide(x, y+half, half)\n",
    "                divide(x+half, y+half, half)\n",
    "                break\n",
    "    if check:\n",
    "        if init == 0:\n",
    "            white_paper += 1\n",
    "        else:\n",
    "            blue_paper += 1\n",
    "N = int(input()) # 정사각형의 길이\n",
    "graph = [list(map(int, input().split())) for _ in range(N)] # 2차원 정사각형 배열 초기화\n",
    "blue_paper, white_paper = 0, 0\n",
    "divide(0, 0, N)\n",
    "print(white_paper)\n",
    "print(blue_paper)"
   ]
  },
  {
   "cell_type": "code",
   "execution_count": null,
   "metadata": {},
   "outputs": [],
   "source": [
    "# BOJ 이분 탐색 수 찾기 1920 \n",
    "# 이진탐색 함수\n",
    "def binary_search(arr, val, low, high):\n",
    "    if low > high:\n",
    "        return False\n",
    "    \n",
    "    mid = (low + high) // 2\n",
    "    if arr[mid] > val:\n",
    "        return binary_search(arr, val, low, mid - 1)\n",
    "    elif arr[mid] < val:\n",
    "        return binary_search(arr, val, mid + 1, high)\n",
    "    else:\n",
    "        return True\n",
    "\n",
    "N = int(input())\n",
    "A = list(map(int, input().split()))\n",
    "M = int(input())\n",
    "M_list = list(map(int, input().split()))\n",
    "A.sort() # 이진 탐색은 반드시 정렬되어 있을 때 사용 가능\n",
    "\n",
    "\n",
    "for m in M_list:\n",
    "    if binary_search(A, m, 0, N-1):\n",
    "        print(1)\n",
    "    else:\n",
    "        print(0)"
   ]
  },
  {
   "cell_type": "code",
   "execution_count": 3,
   "metadata": {},
   "outputs": [
    {
     "name": "stdout",
     "output_type": "stream",
     "text": [
      "3\n",
      "0\n",
      "0\n",
      "1\n",
      "2\n",
      "0\n",
      "0\n",
      "2\n"
     ]
    }
   ],
   "source": [
    "# BOJ 10816 숫자 카드 2\n",
    "N = int(input()) # 상근이가 가지고 있는 카드의 개수 - 시간 초과 코드(빠른 입력 pypy로 제출 해도 시간 초과)\n",
    "                 # 이유는 count 메소드의 시간복잡도 때문 - 다른 방법을 찾아야 함.\n",
    "card_list = list(map(int, input().split()))  # 카드 리스트\n",
    "M = int(input()) \n",
    "search_list = list(map(int, input().split()))\n",
    "count_list = []\n",
    "\n",
    "for i in range(M):\n",
    "    element_num = card_list.count(serach_list[i])\n",
    "    count_list.append(element_num)\n",
    "\n",
    "for k in range(M):\n",
    "    print(count_list[k], end=' ')"
   ]
  },
  {
   "cell_type": "code",
   "execution_count": 4,
   "metadata": {},
   "outputs": [
    {
     "name": "stdout",
     "output_type": "stream",
     "text": [
      "{6: 1}\n",
      "{6: 1, 3: 1}\n",
      "{6: 1, 3: 1, 2: 1}\n",
      "{6: 1, 3: 1, 2: 1, 10: 1}\n",
      "{6: 1, 3: 1, 2: 1, 10: 2}\n",
      "{6: 1, 3: 1, 2: 1, 10: 3}\n",
      "{6: 1, 3: 1, 2: 1, 10: 3, -10: 1}\n",
      "{6: 1, 3: 1, 2: 1, 10: 3, -10: 2}\n",
      "{6: 1, 3: 1, 2: 1, 10: 3, -10: 2, 7: 1}\n",
      "{6: 1, 3: 2, 2: 1, 10: 3, -10: 2, 7: 1}\n",
      "3 0 0 1 2 0 0 2 "
     ]
    }
   ],
   "source": [
    "# BOJ 10816 숫자 카드 2\n",
    "# https://infinitt.tistory.com/288 - 풀이 참고 - 딕셔너리형을 익히자\n",
    "N = int(input()) # 상근이가 가지고 있는 카드의 개수 \n",
    "card_list = list(map(int, input().split()))  # 카드 리스트\n",
    "M = int(input()) \n",
    "search_list = list(map(int, input().split()))\n",
    "\n",
    "dic = dict() # 딕셔너리형\n",
    "\n",
    "for i in card_list:\n",
    "    try:\n",
    "        dic[i] += 1\n",
    "    except:\n",
    "        dic[i] = 1\n",
    "\n",
    "for i in search_list:\n",
    "    try:\n",
    "        print(dic[i], end = \" \")\n",
    "    except:\n",
    "        print(0, end=\" \")\n",
    "\n"
   ]
  },
  {
   "cell_type": "code",
   "execution_count": 1,
   "metadata": {},
   "outputs": [
    {
     "name": "stdout",
     "output_type": "stream",
     "text": [
      "9\n",
      "7\n"
     ]
    }
   ],
   "source": [
    "# BOJ 분할 정복 색종이 만들기 2630 \n",
    "def divide(x, y, length):\n",
    "    global blue_paper, white_paper\n",
    "    \n",
    "    init = graph[y][x]\n",
    "    check = True\n",
    "    \n",
    "    for i in range(y, y+length):\n",
    "        if not check:\n",
    "            break\n",
    "        for j in range(x, x+length):\n",
    "            if init != graph[i][j]:\n",
    "                check = False\n",
    "                half = length // 2\n",
    "                divide(x, y, half)\n",
    "                divide(x+ half, y, half)\n",
    "                divide(x, y+half, half)\n",
    "                divide(x+half, y+half, half)\n",
    "                break\n",
    "    if check:\n",
    "        if init == 0:\n",
    "            white_paper += 1\n",
    "        else:\n",
    "            blue_paper += 1\n",
    "N = int(input()) # 정사각형의 길이\n",
    "graph = [list(map(int, input().split())) for _ in range(N)] # 2차원 정사각형 배열 초기화\n",
    "blue_paper, white_paper = 0, 0\n",
    "divide(0, 0, N)\n",
    "print(white_paper)\n",
    "print(blue_paper)"
   ]
  },
  {
   "cell_type": "code",
   "execution_count": null,
   "metadata": {},
   "outputs": [],
   "source": [
    "#BOJ 우선 순위 큐 11279 최대 힙\n",
    "import sys\n",
    "import heapq\n",
    "\n",
    "N = int(sys.stdin.readline())\n",
    "heap = []\n",
    "for i in range(N):\n",
    "    num = int(sys.stdin.readline())\n",
    "    if num != 0:\n",
    "        heapq.heappush(heap, (-num))\n",
    "    else:\n",
    "        if not heap:\n",
    "            print(0)\n",
    "        else:\n",
    "            print(-1 * heapq.heappop(heap))"
   ]
  },
  {
   "cell_type": "code",
   "execution_count": null,
   "metadata": {},
   "outputs": [],
   "source": [
    "#BOJ 우선 순위 큐 1927 최소 힙\n",
    "import sys\n",
    "import heapq\n",
    "\n",
    "N = int(sys.stdin.readline())\n",
    "heap = []\n",
    "for i in range(N):\n",
    "    num = int(sys.stdin.readline())\n",
    "    if num != 0:\n",
    "        heapq.heappush(heap, (num))\n",
    "    else:\n",
    "        if not heap:\n",
    "            print(0)\n",
    "        else:\n",
    "            print(heapq.heappop(heap))"
   ]
  }
 ],
 "metadata": {
  "kernelspec": {
   "display_name": "Python 3",
   "language": "python",
   "name": "python3"
  },
  "language_info": {
   "codemirror_mode": {
    "name": "ipython",
    "version": 3
   },
   "file_extension": ".py",
   "mimetype": "text/x-python",
   "name": "python",
   "nbconvert_exporter": "python",
   "pygments_lexer": "ipython3",
   "version": "3.8.3"
  },
  "toc": {
   "base_numbering": 1,
   "nav_menu": {},
   "number_sections": true,
   "sideBar": true,
   "skip_h1_title": false,
   "title_cell": "Table of Contents",
   "title_sidebar": "Contents",
   "toc_cell": false,
   "toc_position": {},
   "toc_section_display": true,
   "toc_window_display": false
  },
  "varInspector": {
   "cols": {
    "lenName": 16,
    "lenType": 16,
    "lenVar": 40
   },
   "kernels_config": {
    "python": {
     "delete_cmd_postfix": "",
     "delete_cmd_prefix": "del ",
     "library": "var_list.py",
     "varRefreshCmd": "print(var_dic_list())"
    },
    "r": {
     "delete_cmd_postfix": ") ",
     "delete_cmd_prefix": "rm(",
     "library": "var_list.r",
     "varRefreshCmd": "cat(var_dic_list()) "
    }
   },
   "types_to_exclude": [
    "module",
    "function",
    "builtin_function_or_method",
    "instance",
    "_Feature"
   ],
   "window_display": false
  }
 },
 "nbformat": 4,
 "nbformat_minor": 4
}
