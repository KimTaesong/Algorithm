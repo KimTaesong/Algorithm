{
 "cells": [
  {
   "cell_type": "code",
   "execution_count": 1,
   "metadata": {},
   "outputs": [
    {
     "name": "stdout",
     "output_type": "stream",
     "text": [
      "5\n",
      "5\n",
      "4\n",
      "3\n",
      "2\n",
      "1\n",
      "1\n",
      "2\n",
      "3\n",
      "4\n",
      "5\n"
     ]
    }
   ],
   "source": [
    "# BOJ 2750 수 정렬하기\n",
    "# 버블 정렬로 구현하기\n",
    "N = int(input())\n",
    "num = []\n",
    "for i in range(N):\n",
    "    num.append(int(input()))\n",
    "\n",
    "for i in range(N-1):\n",
    "    for j in range(N-i-1):\n",
    "        if num[j] > num[j+1]:\n",
    "            num[j], num[j+1] = num[j+1], num[j]\n",
    "for _ in num:\n",
    "    print(_)\n",
    "    \n",
    "    "
   ]
  },
  {
   "cell_type": "code",
   "execution_count": 3,
   "metadata": {},
   "outputs": [
    {
     "name": "stdout",
     "output_type": "stream",
     "text": [
      "5\n",
      "5\n",
      "4\n",
      "3\n",
      "2\n",
      "1\n",
      "1\n",
      "2\n",
      "3\n",
      "4\n",
      "5\n"
     ]
    }
   ],
   "source": [
    "# BOJ 2751 수 정렬하기2\n",
    "# 퀵, 합병, 힙 정렬(3개 -nlogn), 정렬 라이브러리(nlogn)로 구현하기 \n",
    "import sys\n",
    "N = int(input())\n",
    "num = []\n",
    "for i in range(N):\n",
    "    num.append(int(input()))\n",
    "num.sort()\n",
    "for _ in num:\n",
    "    print(_)\n",
    "    "
   ]
  },
  {
   "cell_type": "code",
   "execution_count": 6,
   "metadata": {},
   "outputs": [
    {
     "name": "stdout",
     "output_type": "stream",
     "text": [
      "4 2\n",
      "1 2\n",
      "1 3\n",
      "1 4\n",
      "2 1\n",
      "2 3\n",
      "2 4\n",
      "3 1\n",
      "3 2\n",
      "3 4\n",
      "4 1\n",
      "4 2\n",
      "4 3\n"
     ]
    }
   ],
   "source": [
    "5##### BOJ 백트래킹 15649 N과 M (1)\n",
    "# 라이브러리 사용 - 출제 의도 부합하지 않음\n",
    "from itertools import permutations\n",
    "# import sys\n",
    "# input = sys.stdin.readline()\n",
    "N, M = map(int, input().split())\n",
    "nPm = permutations(range(1, N+1), M)\n",
    "for i in nPm:\n",
    "    print(*i)"
   ]
  },
  {
   "cell_type": "code",
   "execution_count": 5,
   "metadata": {},
   "outputs": [
    {
     "name": "stdout",
     "output_type": "stream",
     "text": [
      "4 2\n",
      "1 2 \n",
      "1 3 \n",
      "1 4 \n",
      "2 1 \n",
      "2 3 \n",
      "2 4 \n",
      "3 1 \n",
      "3 2 \n",
      "3 4 \n",
      "4 1 \n",
      "4 2 \n",
      "4 3 \n"
     ]
    }
   ],
   "source": [
    "# BOJ 백트래킹 15649 N과 M (1)\n",
    "N, M = map(int, input().split())\n",
    "# 숫자 사용 여부 확인\n",
    "# Check number is user\n",
    "check = [False] * N\n",
    "\n",
    "#정답 배열\n",
    "# answer list\n",
    "answer = [0] * M\n",
    "\n",
    "def dfs(idx):\n",
    "    # idx값이 증가하다가 정답 배열의 길이가 M에 도달하면 답 출력\n",
    "    # When idx value increases then length of the answer list reaches M, then print answer\n",
    "    if idx == M:\n",
    "        for i in range(M):\n",
    "            print(answer[i], end=' ')\n",
    "        print()\n",
    "        return\n",
    "    \n",
    "    # M에 도달하지 못하면 가능성 있는 숫자 계속 찾기\n",
    "    # if not reached M, continuosly find the possible number\n",
    "    for i in range(N):\n",
    "        # 이미 해당 숫자가 사용되었으면 pass\n",
    "        # Pass if the number already been user\n",
    "        if check[i]:\n",
    "            continue\n",
    "        \n",
    "        # 숫자가 사용되지 않았으면 정답 배열에 기록하고 True로 바꾸어준다\n",
    "        # if the number not user, then record answer list and change values from false to true\n",
    "        check[i] = True\n",
    "        answer[idx] = i + 1\n",
    "        \n",
    "        # 재귀 호출\n",
    "        # Call recursive\n",
    "        dfs(idx+1)\n",
    "        \n",
    "        # 재귀가 끝나면 다시 되돌아갈 때 사용하지 않았던 상태로 되돌려주기\n",
    "        # Return to unused state when recursive is finished\n",
    "        check[i] = False\n",
    "dfs(0)"
   ]
  },
  {
   "cell_type": "code",
   "execution_count": 7,
   "metadata": {},
   "outputs": [
    {
     "name": "stdout",
     "output_type": "stream",
     "text": [
      "4 2\n",
      "1 2 \n",
      "1 3 \n",
      "1 4 \n",
      "2 3 \n",
      "2 4 \n",
      "3 4 \n"
     ]
    }
   ],
   "source": [
    "# BOJ 백트래킹 15649 N과 M (2)\n",
    "N, M = map(int, input().split())\n",
    "# 숫자 사용 여부 확인\n",
    "# Check number is user\n",
    "check = [False] * N\n",
    "\n",
    "#정답 배열\n",
    "# answer list\n",
    "answer = [0] * M\n",
    "\n",
    "def dfs(idx):\n",
    "    # idx값이 증가하다가 정답 배열의 길이가 M에 도달하면 답 출력\n",
    "    # When idx value increases then length of the answer list reaches M, then print answer\n",
    "    if idx == M:\n",
    "        if answer == sorted(answer):\n",
    "            for i in range(M):\n",
    "                print(answer[i], end=' ')\n",
    "            print()\n",
    "        return\n",
    "    \n",
    "    # M에 도달하지 못하면 가능성 있는 숫자 계속 찾기\n",
    "    # if not reached M, continuosly find the possible number\n",
    "    for i in range(N):\n",
    "        # 이미 해당 숫자가 사용되었으면 pass\n",
    "        # Pass if the number already been user\n",
    "        if check[i]:\n",
    "            continue\n",
    "        \n",
    "        # 숫자가 사용되지 않았으면 정답 배열에 기록하고 True로 바꾸어준다\n",
    "        # if the number not user, then record answer list and change values from false to true\n",
    "        check[i] = True\n",
    "        answer[idx] = i + 1\n",
    "        \n",
    "        # 재귀 호출\n",
    "        # Call recursive\n",
    "        dfs(idx+1)\n",
    "        \n",
    "        # 재귀가 끝나면 다시 되돌아갈 때 사용하지 않았던 상태로 되돌려주기\n",
    "        # Return to unused state when recursive is finished\n",
    "        check[i] = False\n",
    "dfs(0)"
   ]
  },
  {
   "cell_type": "code",
   "execution_count": 8,
   "metadata": {},
   "outputs": [
    {
     "name": "stdout",
     "output_type": "stream",
     "text": [
      "3\n",
      "0\n",
      "1 0\n",
      "1\n",
      "0 1\n",
      "3\n",
      "1 2\n"
     ]
    }
   ],
   "source": [
    "# BOJ 동적계획법 1 1003\n",
    "T = int(input()) # 테스트 케이스의 개수\n",
    "dp = []  # 다이나믹 프로그래밍 -> 배열의 이름 dp\n",
    "# 피보나치 수열에서 0이 호출되는 횟수 -> 0번째 인덱스 1이 호출 되는 횟수 -> 1번째 인덱스 배열 형태로 저장 \n",
    "\"\"\"\n",
    "fibo 0 - 0: 1, 1: 0\n",
    "fibo 1 - 0: 0, 1: 1\n",
    "fibo 2 - fibo 0 + fibo 1 -> 0: 1 (1+0), 1: 1 (0+1)\n",
    "fibo 3 - fibo 1 + fibo 2 -> 0: 1 (0+1), 1: 2 (1+1)\n",
    "dp[n][0] : fibo n에서 0이 출력되는 횟수\n",
    "dp[n][1] : fibo n에서 1이 출력되는 횟수\n",
    "\"\"\"\n",
    "def fibo(n): \n",
    "    dp.append([1,0]) # fibo(0)에서 0이 호출되는 횟수: 1, 1이 호출되는 횟수: 0\n",
    "    dp.append([0,1]) # fibo(1)에서 0이 호출되는 횟수: 0, 1이 호출되는 횟수: 1\n",
    "    for i in range(2,n+1):\n",
    "        a = dp[i-2][0] + dp[i-1][0] # dp(i)의  0번째 인덱스\n",
    "        b = dp[i-2][1] + dp[i-1][1] # dp(i)의 1번째 인덱스\n",
    "        dp.append([a,b]) \n",
    "fibo(40) # N의 범위 0<= N <= 40\n",
    "\n",
    "# 테스트 케이스의 개수만큼 인덱스를 입력 받음\n",
    "for i in range(T):\n",
    "    idx = int(input()) # 인덱스\n",
    "    print(dp[idx][0], dp[idx][1]) # 해당 인덱스의 0과 1이 호출되는 횟수를 출력\n",
    "        "
   ]
  },
  {
   "cell_type": "code",
   "execution_count": 9,
   "metadata": {},
   "outputs": [
    {
     "name": "stdout",
     "output_type": "stream",
     "text": [
      "1 1 1\n",
      "w(1,1,1) = 2\n",
      "2 2 2\n",
      "w(2,2,2) = 4\n",
      "10 4 6\n",
      "w(10,4,6) = 523\n",
      "50 50 50\n",
      "w(50,50,50) = 1048576\n",
      "-1 7 18\n",
      "w(-1,7,18) = 1\n",
      "-1 -1 -1\n"
     ]
    }
   ],
   "source": [
    "# BOJ 동적계획법 1 9184\n",
    "# 범위가 -50 <= a, b, c <= 50 101 * 101 * 101 가지수\n",
    "dp = [[[0] * 101 for _ in range(101)] for _ in range(101)] # 3차원 dp 배열을 만듬\n",
    "def w(a, b, c): \n",
    "    if a <= 0 or b <= 0 or c <= 0:\n",
    "        return 1\n",
    "    \n",
    "    if a > 20 or b > 20 or c > 20:\n",
    "        return w(20, 20, 20)\n",
    "    \n",
    "    if dp[a][b][c]:       # dp 배열에 값이 저장되었다면 재활용해서 사용\n",
    "        return dp[a][b][c]\n",
    "    \n",
    "    # dp 배열에 값이 저장되어 있지 않는 경우 재귀 함수로 값을 구하고 dp 배열에 저장\n",
    "    if a < b and b < c:  \n",
    "        dp[a][b][c] = w(a,b,c-1) + w(a,b-1,c-1) - w(a,b-1,c)\n",
    "        return dp[a][b][c]\n",
    "    \n",
    "    dp[a][b][c] = w(a-1, b, c) + w(a-1, b-1, c) + w(a-1, b, c-1) - w(a-1, b-1, c-1)\n",
    "    return dp[a][b][c]\n",
    "\n",
    "# -1 ,-1, -1일 때 종료가 되게 break문을 작성\n",
    "while 1:\n",
    "    a, b, c = map(int, input().split())\n",
    "    if a == -1 and b == -1 and c == -1:\n",
    "        break\n",
    "    print(f\"w({a},{b},{c}) = {w(a, b, c)}\")\n",
    "        "
   ]
  },
  {
   "cell_type": "code",
   "execution_count": 10,
   "metadata": {},
   "outputs": [
    {
     "name": "stdout",
     "output_type": "stream",
     "text": [
      "10 4790\n",
      "1\n",
      "5\n",
      "10\n",
      "50\n",
      "100\n",
      "500\n",
      "1000\n",
      "5000\n",
      "10000\n",
      "50000\n",
      "12\n"
     ]
    }
   ],
   "source": [
    "# BOJ 그리디 알고리즘 동전0 11047\n",
    "N, K = map(int, input().split())\n",
    "coin_list = []\n",
    "for i in range(N):\n",
    "    coin = int(input())\n",
    "    coin_list.append(coin)\n",
    "\n",
    "coin_list.reverse()\n",
    "count = 0\n",
    "for j in coin_list:\n",
    "    count += K // j\n",
    "    K %= j\n",
    "print(count)"
   ]
  },
  {
   "cell_type": "code",
   "execution_count": 11,
   "metadata": {},
   "outputs": [
    {
     "name": "stdout",
     "output_type": "stream",
     "text": [
      "11\n",
      "1 4\n",
      "3 5\n",
      "0 6\n",
      "5 7\n",
      "3 8\n",
      "5 9\n",
      "6 10\n",
      "8 11\n",
      "8 12\n",
      "2 13\n",
      "12 14\n",
      "4\n"
     ]
    }
   ],
   "source": [
    "# BOJ 그리디 알고리즘 회의실 배정 1931\n",
    "N = int(input())\n",
    "\n",
    "time = [[0] * 2 for _ in range(N)]\n",
    "for i in range(N):\n",
    "    s, e = map(int, input().split())\n",
    "    time[i][0] = s\n",
    "    time[i][1] = e\n",
    "    \n",
    "time.sort(key = lambda x: (x[1], x[0]))\n",
    "\n",
    "count = 1\n",
    "end_time = time[0][1]\n",
    "for i in range(1, N):\n",
    "    if time[i][0] >= end_time:\n",
    "        count += 1\n",
    "        end_time = time[i][1]\n",
    "\n",
    "print(count)"
   ]
  },
  {
   "cell_type": "code",
   "execution_count": 12,
   "metadata": {},
   "outputs": [
    {
     "name": "stdout",
     "output_type": "stream",
     "text": [
      "8 16\n",
      "factor\n",
      "32 4\n",
      "multiple\n",
      "17 5\n",
      "neither\n",
      "0 0\n"
     ]
    }
   ],
   "source": [
    "# BOJ 정수론 및 조합론 배수와 약수 5086\n",
    "while True:\n",
    "    a, b = map(int, input().split())\n",
    "    if a == 0 and b == 0:\n",
    "        break\n",
    "    if b % a == 0:\n",
    "        print('factor')\n",
    "    elif a % b == 0:\n",
    "        print('multiple')\n",
    "    else:\n",
    "        print('neither')\n",
    "        "
   ]
  },
  {
   "cell_type": "code",
   "execution_count": 13,
   "metadata": {},
   "outputs": [
    {
     "name": "stdout",
     "output_type": "stream",
     "text": [
      "4\n",
      "6 3 2 4\n",
      "12\n"
     ]
    }
   ],
   "source": [
    "# BOJ 정수론 및 조합론 약수 1037 https://www.acmicpc.net/problem/1037\n",
    "divisor_num = int(input()) # 1과 자기 자신을 제외한 N의 진짜 약수의 개수\n",
    "divisor_N = list(map(int, input().split()))\n",
    "divisor_N.sort()\n",
    "if divisor_num == 1:\n",
    "    print(divisor_N[0] * divisor_N[0])\n",
    "else:\n",
    "    print(divisor_N[0] * divisor_N[-1])"
   ]
  },
  {
   "cell_type": "code",
   "execution_count": null,
   "metadata": {},
   "outputs": [],
   "source": []
  }
 ],
 "metadata": {
  "kernelspec": {
   "display_name": "Python 3",
   "language": "python",
   "name": "python3"
  },
  "language_info": {
   "codemirror_mode": {
    "name": "ipython",
    "version": 3
   },
   "file_extension": ".py",
   "mimetype": "text/x-python",
   "name": "python",
   "nbconvert_exporter": "python",
   "pygments_lexer": "ipython3",
   "version": "3.8.3"
  },
  "toc": {
   "base_numbering": 1,
   "nav_menu": {},
   "number_sections": true,
   "sideBar": true,
   "skip_h1_title": false,
   "title_cell": "Table of Contents",
   "title_sidebar": "Contents",
   "toc_cell": false,
   "toc_position": {},
   "toc_section_display": true,
   "toc_window_display": false
  },
  "varInspector": {
   "cols": {
    "lenName": 16,
    "lenType": 16,
    "lenVar": 40
   },
   "kernels_config": {
    "python": {
     "delete_cmd_postfix": "",
     "delete_cmd_prefix": "del ",
     "library": "var_list.py",
     "varRefreshCmd": "print(var_dic_list())"
    },
    "r": {
     "delete_cmd_postfix": ") ",
     "delete_cmd_prefix": "rm(",
     "library": "var_list.r",
     "varRefreshCmd": "cat(var_dic_list()) "
    }
   },
   "types_to_exclude": [
    "module",
    "function",
    "builtin_function_or_method",
    "instance",
    "_Feature"
   ],
   "window_display": false
  }
 },
 "nbformat": 4,
 "nbformat_minor": 4
}
