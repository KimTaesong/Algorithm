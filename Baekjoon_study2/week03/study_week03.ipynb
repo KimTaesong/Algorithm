{
 "cells": [
  {
   "cell_type": "code",
   "execution_count": 3,
   "metadata": {},
   "outputs": [
    {
     "name": "stdout",
     "output_type": "stream",
     "text": [
      "4 5 1\n",
      "1 2\n",
      "1 3\n",
      "1 4\n",
      "2 4\n",
      "3 4\n",
      "1 2 4 3 \n",
      "1 2 3 4 \n",
      "5 5 3\n",
      "5 4\n",
      "5 2\n",
      "1 2\n",
      "3 4\n",
      "3 1\n",
      "3 1 2 5 4 \n",
      "3 1 4 2 5 \n",
      "1000 1 1000\n",
      "999 1000\n",
      "1000 999 \n",
      "1000 999 \n"
     ]
    }
   ],
   "source": [
    "# 1260 dfs와 bfs\n",
    "\n",
    "from collections import deque\n",
    "\n",
    "for i in range(3):\n",
    "    \n",
    "    N, M, V = map(int, input().split()) # 정점의 개수 N, 간선의 개수 M, 시작할 정점의 번호 V\n",
    "\n",
    "    graph = [[0 for _ in range(N+1)] for _ in range(N+1)] # 인접 행렬 방식을 사용하기 위해서 2차원 리스트 초기화\n",
    "\n",
    "    # 사용자로부터 입력 받을 간선 정보\n",
    "    for i in range(M):\n",
    "        a, b = map(int, input().split())\n",
    "        graph[a][b] = 1 # 그래프의 방향이 없으므로 a,b / b,a 둘 다 변경\n",
    "        graph[b][a] = 1\n",
    "\n",
    "    visited = [False] * (N+1) # 방문 노드를 표시해주기 위한 visited 배열\n",
    "\n",
    "    def dfs(V):\n",
    "        visited[V] = True # 현재 노드를 방문 처리\n",
    "        print(V, end=' ')\n",
    "        # 현재 노드와 연결된 다른 노드를 재귀적으로 방문\n",
    "        for i in range(1, N+1):\n",
    "            if(visited[i] == 0 and graph[V][i] == 1):\n",
    "                dfs(i)\n",
    "\n",
    "    def bfs(V):\n",
    "        # 큐(Queue) 구현을 위해 deque 라이브러리 사용\n",
    "        queue = deque([V])\n",
    "        # 현재 노드를 방문 처리\n",
    "        visited[V] = 0\n",
    "        # 큐가 빌 때까지 반복\n",
    "        while queue:\n",
    "            V = queue.popleft()\n",
    "            print(V, end=' ')\n",
    "            for i in range(1, N+1):\n",
    "                if(visited[i] == 1 and graph[V][i] == 1):\n",
    "                    queue.append(i)\n",
    "                    visited[i] = 0\n",
    "    dfs(V)\n",
    "    print()\n",
    "    bfs(V)\n",
    "    print()"
   ]
  },
  {
   "cell_type": "code",
   "execution_count": 5,
   "metadata": {},
   "outputs": [
    {
     "name": "stdout",
     "output_type": "stream",
     "text": [
      "5\n",
      "5\n",
      "5 4\n",
      "5 2\n",
      "1 2\n",
      "3 4\n",
      "3 1\n",
      "4\n"
     ]
    }
   ],
   "source": [
    "##### 2606 바이러스\n",
    "from collections import deque\n",
    "\n",
    "com_cnt = int(input()) # 컴퓨터(정점-노드)의 수\n",
    "net_cnt = int(input()) # 네트워크(간선)의 수\n",
    "virus_start = 1\n",
    "graph = [[0 for _ in range(com_cnt+1)] for _ in range(com_cnt+1)] # 인접 행려 방식을 사용하기 위해서 2차원 리스트 초기화\n",
    "dfs_list = []\n",
    "bfs_list = []\n",
    "# 사용자로부터 입력 받을 네트워크 정보\n",
    "for i in range(net_cnt):\n",
    "    a, b = map(int, input().split())\n",
    "    graph[a][b] = 1 # 네트워크의 방향이 없으므로 a,b / b, a 둘 다 변경\n",
    "    graph[b][a] = 1\n",
    "\n",
    "visited = [False] * (com_cnt+1) # 방문 컴퓨터를 표시해주기 위한 visited 배열\n",
    "\n",
    "def dfs(V):\n",
    "    visited[V] = True # 현재 노드를 방문 처리\n",
    "    # print(V, end=' ')\n",
    "    dfs_list.append(V)\n",
    "    # 현재 노드와 연결된 다른 노드를 재귀적으로 방문\n",
    "    for i in range(1, com_cnt+1):\n",
    "        if(visited[i] == 0 and graph[V][i] == 1):\n",
    "            dfs(i)\n",
    "            \n",
    "def bfs(V):\n",
    "    # 큐(Queue) 구현을 위해 deque 라이브러리 사용\n",
    "    queue = deque([V])\n",
    "    # 현재 노드를 방문 처리\n",
    "    visited[V] = 0\n",
    "    # 큐가 빌 때까지 반복\n",
    "    while queue:\n",
    "        V = queue.popleft()\n",
    "        print(V, end=' ')\n",
    "        bfs_list.append(V)\n",
    "        for i in range(1, com_cnt+1):\n",
    "            if(visited[i] == 1 and graph[V][i] == 1):\n",
    "                queue.append(i)\n",
    "                visited[i] = 0\n",
    "\n",
    "dfs(1)\n",
    "# print(f\"dfs_list: {dfs_list}\")\n",
    "print(len(dfs_list)-1)\n",
    "# print()\n",
    "# bfs(1)\n",
    "# print(f\"bfs_list: {bfs_list}\")\n",
    "# print(len(bfs_list)-1)\n",
    "\n",
    "\n",
    "\n"
   ]
  },
  {
   "cell_type": "code",
   "execution_count": 6,
   "metadata": {},
   "outputs": [
    {
     "name": "stdout",
     "output_type": "stream",
     "text": [
      "5\n",
      "01101\n",
      "11111\n",
      "11110\n",
      "01111\n",
      "00001\n",
      "[[0, 1, 1, 0, 1], [1, 1, 1, 1, 1], [1, 1, 1, 1, 0], [0, 1, 1, 1, 1], [0, 0, 0, 0, 1]]\n"
     ]
    }
   ],
   "source": [
    "##### 2667 단지번호붙이기\n",
    "N = int(input())\n",
    "graph = [[0 for _ in range(N)] for _ in range(N)]\n",
    "for i in range(N):\n",
    "    word = input()\n",
    "    for j in range(N):\n",
    "        graph[i][j] = int(word[j])\n"
   ]
  },
  {
   "cell_type": "code",
   "execution_count": null,
   "metadata": {},
   "outputs": [],
   "source": []
  }
 ],
 "metadata": {
  "kernelspec": {
   "display_name": "Python 3",
   "language": "python",
   "name": "python3"
  },
  "language_info": {
   "codemirror_mode": {
    "name": "ipython",
    "version": 3
   },
   "file_extension": ".py",
   "mimetype": "text/x-python",
   "name": "python",
   "nbconvert_exporter": "python",
   "pygments_lexer": "ipython3",
   "version": "3.8.3"
  },
  "toc": {
   "base_numbering": 1,
   "nav_menu": {},
   "number_sections": true,
   "sideBar": true,
   "skip_h1_title": false,
   "title_cell": "Table of Contents",
   "title_sidebar": "Contents",
   "toc_cell": false,
   "toc_position": {},
   "toc_section_display": true,
   "toc_window_display": false
  },
  "varInspector": {
   "cols": {
    "lenName": 16,
    "lenType": 16,
    "lenVar": 40
   },
   "kernels_config": {
    "python": {
     "delete_cmd_postfix": "",
     "delete_cmd_prefix": "del ",
     "library": "var_list.py",
     "varRefreshCmd": "print(var_dic_list())"
    },
    "r": {
     "delete_cmd_postfix": ") ",
     "delete_cmd_prefix": "rm(",
     "library": "var_list.r",
     "varRefreshCmd": "cat(var_dic_list()) "
    }
   },
   "types_to_exclude": [
    "module",
    "function",
    "builtin_function_or_method",
    "instance",
    "_Feature"
   ],
   "window_display": false
  }
 },
 "nbformat": 4,
 "nbformat_minor": 4
}
