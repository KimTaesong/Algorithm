{
 "cells": [
  {
   "cell_type": "markdown",
   "metadata": {},
   "source": [
    "# 스터디 2주차"
   ]
  },
  {
   "cell_type": "code",
   "execution_count": 5,
   "metadata": {},
   "outputs": [
    {
     "name": "stdout",
     "output_type": "stream",
     "text": [
      "14\n",
      "push 1\n",
      "push 2\n",
      "top\n",
      "size\n",
      "empty\n",
      "pop\n",
      "pop\n",
      "pop\n",
      "size\n",
      "empty\n",
      "pop\n",
      "push 3\n",
      "empty\n",
      "top\n",
      "2\n",
      "2\n",
      "0\n",
      "2\n",
      "1\n",
      "-1\n",
      "0\n",
      "1\n",
      "-1\n",
      "0\n",
      "3\n"
     ]
    }
   ],
   "source": [
    "# BOJ 스택 10828\n",
    "N = int(input())\n",
    "stack = []\n",
    "answer = []\n",
    "for i in range(N):\n",
    "    command = input().split()\n",
    "    if command[0] == 'push':\n",
    "        stack.append(command[1])\n",
    "    elif command[0] == 'pop':\n",
    "        if stack:\n",
    "            pop_number = stack.pop()\n",
    "            answer.append(pop_number)\n",
    "        else:\n",
    "            answer.append(-1)\n",
    "    elif command[0] == 'top':\n",
    "        if stack:\n",
    "            answer.append(stack[-1])\n",
    "        else:\n",
    "            answer.append(-1)\n",
    "    elif command[0] == 'size':\n",
    "        answer.append(len(stack))\n",
    "    elif command[0] == 'empty':\n",
    "        if stack:\n",
    "            answer.append(0)\n",
    "        else:\n",
    "            answer.append(1)\n",
    "for _ in answer:\n",
    "    print(_)\n",
    "\n",
    "    \n",
    "    "
   ]
  },
  {
   "cell_type": "code",
   "execution_count": 7,
   "metadata": {},
   "outputs": [
    {
     "name": "stdout",
     "output_type": "stream",
     "text": [
      "7\n",
      "pop\n",
      "top\n",
      "push 123\n",
      "top\n",
      "pop\n",
      "top\n",
      "pop\n",
      "-1\n",
      "-1\n",
      "123\n",
      "123\n",
      "-1\n",
      "-1\n"
     ]
    }
   ],
   "source": [
    "# BOJ 스택 10828\n",
    "N = int(input())\n",
    "stack = []\n",
    "answer = []\n",
    "for i in range(N):\n",
    "    command = input().split()\n",
    "    if command[0] == 'push':\n",
    "        stack.append(command[1])\n",
    "    elif command[0] == 'pop':\n",
    "        if stack:\n",
    "            pop_number = stack.pop()\n",
    "            answer.append(pop_number)\n",
    "        else:\n",
    "            answer.append(-1)\n",
    "    elif command[0] == 'top':\n",
    "        if stack:\n",
    "            answer.append(stack[-1])\n",
    "        else:\n",
    "            answer.append(-1)\n",
    "    elif command[0] == 'size':\n",
    "        answer.append(len(stack))\n",
    "    elif command[0] == 'empty':\n",
    "        if stack:\n",
    "            answer.append(0)\n",
    "        else:\n",
    "            answer.append(1)\n",
    "for _ in answer:\n",
    "    print(_)\n",
    "\n",
    "    \n",
    "    "
   ]
  },
  {
   "cell_type": "code",
   "execution_count": 10,
   "metadata": {},
   "outputs": [
    {
     "name": "stdout",
     "output_type": "stream",
     "text": [
      "15\n",
      "push 1\n",
      "push 2\n",
      "front\n",
      "back\n",
      "size\n",
      "empty\n",
      "pop\n",
      "pop\n",
      "pop\n",
      "size\n",
      "enpty\n",
      "pop\n",
      "push 3\n",
      "empty\n",
      "front\n",
      "1\n",
      "2\n",
      "2\n",
      "0\n",
      "1\n",
      "2\n",
      "-1\n",
      "0\n",
      "-1\n",
      "0\n",
      "3\n"
     ]
    }
   ],
   "source": [
    "# BOJ 18258 큐2\n",
    "from collections import deque\n",
    "\n",
    "# 큐(Queue) 구현을 위해 deque 라이브러리 사용\n",
    "\n",
    "queue = deque()\n",
    "answer = []\n",
    "\n",
    "N = int(input())\n",
    "for _ in range(N):\n",
    "    command = input().split()\n",
    "    if command[0] == 'push':\n",
    "        queue.append(command[1])\n",
    "    elif command[0] == 'pop':\n",
    "        if queue:\n",
    "            pop_num = queue.popleft()\n",
    "            answer.append(pop_num)\n",
    "        else:\n",
    "            answer.append(-1)\n",
    "    elif command[0] == 'size':\n",
    "        answer.append(len(queue))\n",
    "    elif command[0] == 'empty':\n",
    "        if queue:\n",
    "            answer.append(0)\n",
    "        else:\n",
    "            answer.append(1)\n",
    "    elif command[0] == 'front':\n",
    "        if queue:\n",
    "            answer.append(queue[0])\n",
    "        else:\n",
    "            answer.append(-1)\n",
    "    elif command[0] == 'back':\n",
    "        if queue:\n",
    "            answer.append(queue[-1])\n",
    "        else:\n",
    "            answer.append(-1)\n",
    "for _ in answer:\n",
    "    print(_)"
   ]
  },
  {
   "cell_type": "code",
   "execution_count": 15,
   "metadata": {},
   "outputs": [
    {
     "name": "stdout",
     "output_type": "stream",
     "text": [
      "3\n",
      "((\n",
      "))\n",
      "())(()\n",
      "NO\n",
      "NO\n",
      "NO\n"
     ]
    }
   ],
   "source": [
    "def vps_check(word):\n",
    "    stack = []\n",
    "    for i in word:\n",
    "        if i == '(':\n",
    "            stack.append(i)\n",
    "        else:\n",
    "            if stack:\n",
    "                pop_word = stack.pop()\n",
    "                if pop_word == '(':\n",
    "                    pass\n",
    "                else:\n",
    "                    return \"NO\"\n",
    "            else:\n",
    "                return \"NO\"\n",
    "    if stack:\n",
    "        return \"NO\"\n",
    "    else:\n",
    "        return \"YES\"\n",
    "\n",
    "T = int(input())\n",
    "answer = []\n",
    "for _ in range(T):\n",
    "    testcase = input()\n",
    "    answer.append(vps_check(testcase))\n",
    "for i in answer:\n",
    "    print(i)"
   ]
  },
  {
   "cell_type": "code",
   "execution_count": 16,
   "metadata": {},
   "outputs": [
    {
     "name": "stdout",
     "output_type": "stream",
     "text": [
      "6\n",
      "(())())\n",
      "(((()())()\n",
      "(()())((()))\n",
      "((()()(()))(((())))()\n",
      "()()()()(()()())()\n",
      "(()((())()(\n",
      "NO\n",
      "NO\n",
      "YES\n",
      "NO\n",
      "YES\n",
      "NO\n"
     ]
    }
   ],
   "source": [
    "def vps_check(word):\n",
    "    stack = []\n",
    "    for i in word:\n",
    "        if i == '(':\n",
    "            stack.append(i)\n",
    "        else:\n",
    "            if stack:\n",
    "                pop_word = stack.pop()\n",
    "                if pop_word == '(':\n",
    "                    pass\n",
    "                else:\n",
    "                    return \"NO\"\n",
    "            else:\n",
    "                return \"NO\"\n",
    "    if stack:\n",
    "        return \"NO\"\n",
    "    else:\n",
    "        return \"YES\"\n",
    "\n",
    "T = int(input())\n",
    "answer = []\n",
    "for _ in range(T):\n",
    "    testcase = input()\n",
    "    answer.append(vps_check(testcase))\n",
    "for i in answer:\n",
    "    print(i)"
   ]
  },
  {
   "cell_type": "code",
   "execution_count": 17,
   "metadata": {},
   "outputs": [
    {
     "name": "stdout",
     "output_type": "stream",
     "text": [
      "[0, 1, 2, 3, 4, 5, 6, 7, 8, 9]\n"
     ]
    }
   ],
   "source": [
    "# 파이썬 heqpq 라이브러리 사용 \n",
    "import heapq\n",
    "\n",
    "def heapsort(iterable):\n",
    "    h = []\n",
    "    result = []\n",
    "    # 모든 원소를 차례대로 힙에 삽입\n",
    "    for value in iterable:\n",
    "        heapq.heappush(h, value)\n",
    "    # 힙에 삽입된 모든 원소를 차례대로 꺼내어 담기\n",
    "    for i in range(len(h)):\n",
    "        result.append(heapq.heappop(h))\n",
    "    return result\n",
    "\n",
    "result = heapsort([1, 3, 5 ,7, 9, 2, 4, 6, 8 ,0])\n",
    "print(result)"
   ]
  },
  {
   "cell_type": "code",
   "execution_count": 18,
   "metadata": {},
   "outputs": [
    {
     "name": "stdout",
     "output_type": "stream",
     "text": [
      "[9, 8, 7, 6, 5, 4, 3, 2, 1, 0]\n"
     ]
    }
   ],
   "source": [
    "# 파이썬 heqpq 라이브러리 사용 \n",
    "import heapq\n",
    "\n",
    "def heapsort(iterable):\n",
    "    h = []\n",
    "    result = []\n",
    "    # 모든 원소를 차례대로 힙에 삽입\n",
    "    for value in iterable:\n",
    "        heapq.heappush(h, -value)\n",
    "    # 힙에 삽입된 모든 원소를 차례대로 꺼내어 담기\n",
    "    for i in range(len(h)):\n",
    "        result.append(-heapq.heappop(h))\n",
    "    return result\n",
    "\n",
    "result = heapsort([1, 3, 5 ,7, 9, 2, 4, 6, 8 ,0])\n",
    "print(result)"
   ]
  },
  {
   "cell_type": "code",
   "execution_count": 38,
   "metadata": {
    "scrolled": true
   },
   "outputs": [
    {
     "name": "stdout",
     "output_type": "stream",
     "text": [
      "13\n",
      "0\n",
      "1\n",
      "h 배열: [1]\n",
      "2\n",
      "h 배열: [1, 2]\n",
      "0\n",
      "h 배열: [2, 1]\n",
      "h 배열: [1, 2]\n",
      "pop_num: 2\n",
      "0\n",
      "h 배열: [1]\n",
      "pop_num: 1\n",
      "3\n",
      "h 배열: [3]\n",
      "2\n",
      "h 배열: [2, 3]\n",
      "1\n",
      "h 배열: [1, 3, 2]\n",
      "0\n",
      "h 배열: [2, 3, 1]\n",
      "h 배열: [1, 3, 2]\n",
      "h 배열: [2, 3, 1]\n",
      "pop_num: 1\n",
      "0\n",
      "h 배열: [3, 2]\n",
      "h 배열: [2, 3]\n",
      "pop_num: 3\n",
      "0\n",
      "h 배열: [2]\n",
      "pop_num: 2\n",
      "0\n",
      "0\n",
      "0\n",
      "2\n",
      "1\n",
      "1\n",
      "3\n",
      "2\n",
      "0\n",
      "0\n"
     ]
    }
   ],
   "source": [
    "# BOJ 최대 힙 11279\n",
    "import heapq\n",
    "\n",
    "N = int(input())\n",
    "h = []\n",
    "answer = []\n",
    "# 모든 원소를 차례대로 힙에 삽입\n",
    "for _ in range(N):\n",
    "    x = int(input())\n",
    "    if x != 0:\n",
    "        heapq.heappush(h, x)\n",
    "        print(f\"h 배열: {h}\")\n",
    "        # 힙에 삽입된 원소를 차례대로 꺼내어 담기\n",
    "    else:\n",
    "        if h:\n",
    "            for i in range(len(h)):\n",
    "                h.append(heapq.heappop(h))\n",
    "                print(f\"h 배열: {h}\")\n",
    "            pop_num = h.pop()\n",
    "            print(f\"pop_num: {pop_num}\")\n",
    "            answer.append(pop_num)\n",
    "        else:\n",
    "            answer.append(0)\n",
    "for _ in answer:\n",
    "    print(_)"
   ]
  },
  {
   "cell_type": "code",
   "execution_count": 40,
   "metadata": {},
   "outputs": [
    {
     "ename": "KeyboardInterrupt",
     "evalue": "Interrupted by user",
     "output_type": "error",
     "traceback": [
      "\u001b[1;31m---------------------------------------------------------------------------\u001b[0m",
      "\u001b[1;31mKeyboardInterrupt\u001b[0m                         Traceback (most recent call last)",
      "\u001b[1;32m<ipython-input-40-548f34074f9f>\u001b[0m in \u001b[0;36m<module>\u001b[1;34m\u001b[0m\n\u001b[0;32m      1\u001b[0m \u001b[1;32mimport\u001b[0m \u001b[0mheapq\u001b[0m\u001b[1;33m\u001b[0m\u001b[1;33m\u001b[0m\u001b[0m\n\u001b[0;32m      2\u001b[0m \u001b[1;33m\u001b[0m\u001b[0m\n\u001b[1;32m----> 3\u001b[1;33m \u001b[0mN\u001b[0m \u001b[1;33m=\u001b[0m \u001b[0mint\u001b[0m\u001b[1;33m(\u001b[0m\u001b[0minput\u001b[0m\u001b[1;33m(\u001b[0m\u001b[1;33m)\u001b[0m\u001b[1;33m)\u001b[0m\u001b[1;33m\u001b[0m\u001b[1;33m\u001b[0m\u001b[0m\n\u001b[0m\u001b[0;32m      4\u001b[0m \u001b[0mheap\u001b[0m \u001b[1;33m=\u001b[0m \u001b[1;33m[\u001b[0m\u001b[1;33m]\u001b[0m\u001b[1;33m\u001b[0m\u001b[1;33m\u001b[0m\u001b[0m\n\u001b[0;32m      5\u001b[0m \u001b[1;32mfor\u001b[0m \u001b[0mi\u001b[0m \u001b[1;32min\u001b[0m \u001b[0mrange\u001b[0m\u001b[1;33m(\u001b[0m\u001b[0mN\u001b[0m\u001b[1;33m)\u001b[0m\u001b[1;33m:\u001b[0m\u001b[1;33m\u001b[0m\u001b[1;33m\u001b[0m\u001b[0m\n",
      "\u001b[1;32mC:\\anaconda3\\lib\\site-packages\\ipykernel\\kernelbase.py\u001b[0m in \u001b[0;36mraw_input\u001b[1;34m(self, prompt)\u001b[0m\n\u001b[0;32m    858\u001b[0m                 \u001b[1;34m\"raw_input was called, but this frontend does not support input requests.\"\u001b[0m\u001b[1;33m\u001b[0m\u001b[1;33m\u001b[0m\u001b[0m\n\u001b[0;32m    859\u001b[0m             )\n\u001b[1;32m--> 860\u001b[1;33m         return self._input_request(str(prompt),\n\u001b[0m\u001b[0;32m    861\u001b[0m             \u001b[0mself\u001b[0m\u001b[1;33m.\u001b[0m\u001b[0m_parent_ident\u001b[0m\u001b[1;33m,\u001b[0m\u001b[1;33m\u001b[0m\u001b[1;33m\u001b[0m\u001b[0m\n\u001b[0;32m    862\u001b[0m             \u001b[0mself\u001b[0m\u001b[1;33m.\u001b[0m\u001b[0m_parent_header\u001b[0m\u001b[1;33m,\u001b[0m\u001b[1;33m\u001b[0m\u001b[1;33m\u001b[0m\u001b[0m\n",
      "\u001b[1;32mC:\\anaconda3\\lib\\site-packages\\ipykernel\\kernelbase.py\u001b[0m in \u001b[0;36m_input_request\u001b[1;34m(self, prompt, ident, parent, password)\u001b[0m\n\u001b[0;32m    902\u001b[0m             \u001b[1;32mexcept\u001b[0m \u001b[0mKeyboardInterrupt\u001b[0m\u001b[1;33m:\u001b[0m\u001b[1;33m\u001b[0m\u001b[1;33m\u001b[0m\u001b[0m\n\u001b[0;32m    903\u001b[0m                 \u001b[1;31m# re-raise KeyboardInterrupt, to truncate traceback\u001b[0m\u001b[1;33m\u001b[0m\u001b[1;33m\u001b[0m\u001b[1;33m\u001b[0m\u001b[0m\n\u001b[1;32m--> 904\u001b[1;33m                 \u001b[1;32mraise\u001b[0m \u001b[0mKeyboardInterrupt\u001b[0m\u001b[1;33m(\u001b[0m\u001b[1;34m\"Interrupted by user\"\u001b[0m\u001b[1;33m)\u001b[0m \u001b[1;32mfrom\u001b[0m \u001b[1;32mNone\u001b[0m\u001b[1;33m\u001b[0m\u001b[1;33m\u001b[0m\u001b[0m\n\u001b[0m\u001b[0;32m    905\u001b[0m             \u001b[1;32mexcept\u001b[0m \u001b[0mException\u001b[0m \u001b[1;32mas\u001b[0m \u001b[0me\u001b[0m\u001b[1;33m:\u001b[0m\u001b[1;33m\u001b[0m\u001b[1;33m\u001b[0m\u001b[0m\n\u001b[0;32m    906\u001b[0m                 \u001b[0mself\u001b[0m\u001b[1;33m.\u001b[0m\u001b[0mlog\u001b[0m\u001b[1;33m.\u001b[0m\u001b[0mwarning\u001b[0m\u001b[1;33m(\u001b[0m\u001b[1;34m\"Invalid Message:\"\u001b[0m\u001b[1;33m,\u001b[0m \u001b[0mexc_info\u001b[0m\u001b[1;33m=\u001b[0m\u001b[1;32mTrue\u001b[0m\u001b[1;33m)\u001b[0m\u001b[1;33m\u001b[0m\u001b[1;33m\u001b[0m\u001b[0m\n",
      "\u001b[1;31mKeyboardInterrupt\u001b[0m: Interrupted by user"
     ]
    }
   ],
   "source": [
    "import heapq\n",
    "\n",
    "N = int(input())\n",
    "heap = []\n",
    "for i in range(N):\n",
    "    num = int(input())\n",
    "    if num == 0:\n",
    "        if heap:\n",
    "            print(heapq.heappop(heap)[1])\n",
    "        else:\n",
    "            print(0)\n",
    "    else:\n",
    "        eapq.heappush(heap, [-num, num])\n",
    "            "
   ]
  },
  {
   "cell_type": "code",
   "execution_count": null,
   "metadata": {},
   "outputs": [],
   "source": [
    "# BOJ 문제집 1766\n",
    "N, M = map(int, input().split()) # 문제의 수: N, 정보의 개수: M\n",
    "for i in range(M):\n",
    "    A, B = map(int, input().split())"
   ]
  },
  {
   "cell_type": "code",
   "execution_count": 47,
   "metadata": {},
   "outputs": [
    {
     "name": "stdout",
     "output_type": "stream",
     "text": [
      "5\n",
      "6 9 5 7 4\n",
      "0 0 2 2 4 "
     ]
    }
   ],
   "source": [
    "# BOJ 탑 2493\n",
    "N = int(input()) # 탑의 수\n",
    "tower_heights = list(map(int, input().split()))\n",
    "lazer_recv = [0] * N\n",
    "for i in range(1, N):\n",
    "    if max(tower_heights[:i+1]) > tower_heights[i]:\n",
    "        for j in range(i-1,-1,-1):        \n",
    "            if tower_heights[j] > tower_heights[i]:\n",
    "                lazer_recv[i] = j+1\n",
    "                break\n",
    "\n",
    "for _ in lazer_recv:\n",
    "    print(_, end= ' ')\n",
    "    "
   ]
  },
  {
   "cell_type": "code",
   "execution_count": 55,
   "metadata": {},
   "outputs": [
    {
     "name": "stdout",
     "output_type": "stream",
     "text": [
      "5\n",
      "6 9 5 7 4\n",
      "[6, 9]\n",
      "[6, 9, 5]\n",
      "[6, 9, 5, 7]\n",
      "[6, 9, 5, 7, 4]\n",
      "0 0 0 0 0 "
     ]
    }
   ],
   "source": [
    "# BOJ 탑 2493\n",
    "N = int(input()) # 탑의 수\n",
    "tower_heights = list(map(int, input().split()))\n",
    "lazer_recv = [0] * N\n",
    "for i in range(1, N):\n",
    "    init = [-tower_heights[i]] * i\n",
    "    print(tower_heights[:i+1])\n",
    "    for j in range(i):\n",
    "        tower_heights[:i+1][j] - init[j]\n",
    "\n",
    "    \n",
    "for _ in lazer_recv:\n",
    "    print(_, end= ' ')\n",
    "    "
   ]
  },
  {
   "cell_type": "code",
   "execution_count": 61,
   "metadata": {},
   "outputs": [
    {
     "name": "stdout",
     "output_type": "stream",
     "text": [
      "4 6\n",
      "4 2\n",
      "3 1\n",
      "1 1\n",
      "2 2\n",
      "3 3\n",
      "4 4\n",
      "[1, 2, 3, 4]\n"
     ]
    }
   ],
   "source": [
    "# BOJ 1766 문제집\n",
    "N, M = map(int, input().split())\n",
    "test = [i for i in range(1,N+1)]\n",
    "homework = []\n",
    "for i in range(M):\n",
    "    A, B = map(int, input().split())\n",
    "    homework.append([A, B])\n",
    "    \n",
    "\n"
   ]
  },
  {
   "cell_type": "code",
   "execution_count": null,
   "metadata": {},
   "outputs": [],
   "source": [
    "# BOJ 5052 전화번호 목록\n",
    "t = int(input()) # 테스트 케이스의 개수\n",
    "for i in range(t):\n",
    "    n = int(input()) # 전화번호의 수\n",
    "    for j in range(n):\n",
    "        phone_number = input() # 전화 번호 입력 받음\n"
   ]
  }
 ],
 "metadata": {
  "kernelspec": {
   "display_name": "Python 3",
   "language": "python",
   "name": "python3"
  },
  "language_info": {
   "codemirror_mode": {
    "name": "ipython",
    "version": 3
   },
   "file_extension": ".py",
   "mimetype": "text/x-python",
   "name": "python",
   "nbconvert_exporter": "python",
   "pygments_lexer": "ipython3",
   "version": "3.8.3"
  },
  "toc": {
   "base_numbering": 1,
   "nav_menu": {},
   "number_sections": true,
   "sideBar": true,
   "skip_h1_title": false,
   "title_cell": "Table of Contents",
   "title_sidebar": "Contents",
   "toc_cell": false,
   "toc_position": {},
   "toc_section_display": true,
   "toc_window_display": false
  },
  "varInspector": {
   "cols": {
    "lenName": 16,
    "lenType": 16,
    "lenVar": 40
   },
   "kernels_config": {
    "python": {
     "delete_cmd_postfix": "",
     "delete_cmd_prefix": "del ",
     "library": "var_list.py",
     "varRefreshCmd": "print(var_dic_list())"
    },
    "r": {
     "delete_cmd_postfix": ") ",
     "delete_cmd_prefix": "rm(",
     "library": "var_list.r",
     "varRefreshCmd": "cat(var_dic_list()) "
    }
   },
   "types_to_exclude": [
    "module",
    "function",
    "builtin_function_or_method",
    "instance",
    "_Feature"
   ],
   "window_display": false
  }
 },
 "nbformat": 4,
 "nbformat_minor": 4
}
