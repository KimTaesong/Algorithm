{
 "cells": [
  {
   "cell_type": "code",
   "execution_count": 1,
   "metadata": {},
   "outputs": [
    {
     "name": "stdout",
     "output_type": "stream",
     "text": [
      "9\n",
      "57\n"
     ]
    }
   ],
   "source": [
    "# 문자열 아스키코드 11654\n",
    "word = input()\n",
    "print(ord(word))"
   ]
  },
  {
   "cell_type": "code",
   "execution_count": 2,
   "metadata": {},
   "outputs": [
    {
     "name": "stdout",
     "output_type": "stream",
     "text": [
      "11\n",
      "10987654321\n",
      "46\n"
     ]
    }
   ],
   "source": [
    "# 문자열 숫자의 합 11720\n",
    "T = int(input())\n",
    "N = input()\n",
    "count = 0\n",
    "for i in range(len(N)):\n",
    "    count += int(N[i])\n",
    "print(count)"
   ]
  },
  {
   "cell_type": "code",
   "execution_count": 4,
   "metadata": {},
   "outputs": [
    {
     "ename": "ValueError",
     "evalue": "not enough values to unpack (expected 3, got 0)",
     "output_type": "error",
     "traceback": [
      "\u001b[1;31m---------------------------------------------------------------------------\u001b[0m",
      "\u001b[1;31mValueError\u001b[0m                                Traceback (most recent call last)",
      "\u001b[1;32m<ipython-input-4-ca17014699ef>\u001b[0m in \u001b[0;36m<module>\u001b[1;34m\u001b[0m\n\u001b[0;32m      2\u001b[0m \u001b[1;32mimport\u001b[0m \u001b[0msys\u001b[0m\u001b[1;33m\u001b[0m\u001b[1;33m\u001b[0m\u001b[0m\n\u001b[0;32m      3\u001b[0m \u001b[1;33m\u001b[0m\u001b[0m\n\u001b[1;32m----> 4\u001b[1;33m \u001b[0mA\u001b[0m\u001b[1;33m,\u001b[0m \u001b[0mB\u001b[0m\u001b[1;33m,\u001b[0m \u001b[0mC\u001b[0m \u001b[1;33m=\u001b[0m \u001b[0mmap\u001b[0m\u001b[1;33m(\u001b[0m\u001b[0mint\u001b[0m\u001b[1;33m,\u001b[0m\u001b[0msys\u001b[0m\u001b[1;33m.\u001b[0m\u001b[0mstdin\u001b[0m\u001b[1;33m.\u001b[0m\u001b[0mreadline\u001b[0m\u001b[1;33m(\u001b[0m\u001b[1;33m)\u001b[0m\u001b[1;33m.\u001b[0m\u001b[0msplit\u001b[0m\u001b[1;33m(\u001b[0m\u001b[1;33m)\u001b[0m\u001b[1;33m)\u001b[0m\u001b[1;33m\u001b[0m\u001b[1;33m\u001b[0m\u001b[0m\n\u001b[0m\u001b[0;32m      5\u001b[0m \u001b[1;31m# A : 고정, B: 가변, C: 노트북 가격\u001b[0m\u001b[1;33m\u001b[0m\u001b[1;33m\u001b[0m\u001b[1;33m\u001b[0m\u001b[0m\n\u001b[0;32m      6\u001b[0m \u001b[1;33m\u001b[0m\u001b[0m\n",
      "\u001b[1;31mValueError\u001b[0m: not enough values to unpack (expected 3, got 0)"
     ]
    }
   ],
   "source": [
    "# 수학1 손익분기점 1712\n",
    "import sys\n",
    "\n",
    "A, B, C = map(int,sys.stdin.readline().split())\n",
    "# A : 고정, B: 가변, C: 노트북 가격\n",
    "\n",
    "if B < C:\n",
    "    print(int(A /(C -B)+1))\n",
    "else:\n",
    "    print(-1)"
   ]
  },
  {
   "cell_type": "code",
   "execution_count": 6,
   "metadata": {},
   "outputs": [
    {
     "name": "stdout",
     "output_type": "stream",
     "text": [
      "18\n",
      "4\n"
     ]
    }
   ],
   "source": [
    "# 수학1 설탕배달 2839\n",
    "N = int(input()) # 총 설탕의 양\n",
    "count_list = []\n",
    "for i in range(N//3+1):\n",
    "    count = 0\n",
    "    for j in range(N//5+1):\n",
    "        if (3 * i + 5 * j) == N:\n",
    "            count = i + j\n",
    "            count_list.append(count)\n",
    "if count_list:\n",
    "    print(min(count_list))\n",
    "else:\n",
    "    print(-1)"
   ]
  },
  {
   "cell_type": "code",
   "execution_count": 7,
   "metadata": {},
   "outputs": [
    {
     "name": "stdout",
     "output_type": "stream",
     "text": [
      "8\n",
      "1 3 5 7 17 19 21 23 97\n",
      "7\n"
     ]
    }
   ],
   "source": [
    "# 수학2 소수 찾기 1978\n",
    "def isPrime(N):\n",
    "    if N == 1: return False\n",
    "    i = 2\n",
    "    while i * i <= N:\n",
    "        if N % i == 0: return False\n",
    "        i += 1\n",
    "    return True\n",
    "\n",
    "N = int(input())\n",
    "nums = list(map(int, input().split()))\n",
    "count = 0\n",
    "for i in nums:\n",
    "    count += isPrime(i)\n",
    "print(count)"
   ]
  },
  {
   "cell_type": "code",
   "execution_count": 9,
   "metadata": {},
   "outputs": [
    {
     "name": "stdout",
     "output_type": "stream",
     "text": [
      "60\n",
      "100\n",
      "620\n",
      "61\n"
     ]
    }
   ],
   "source": [
    "# 수학2 소수 2581\n",
    "def isPrime(N):\n",
    "    if N == 1: return False\n",
    "    i = 2\n",
    "    while i * i <= N:\n",
    "        if N % i ==0: return False\n",
    "        i += 1\n",
    "    return True\n",
    "\n",
    "M = int(input())\n",
    "N = int(input())\n",
    "isPrime_list = []\n",
    "\n",
    "for i in range(M, N+1):\n",
    "    if isPrime(i):\n",
    "        isPrime_list.append(i)\n",
    "if isPrime_list:\n",
    "    print(sum(isPrime_list))\n",
    "    print(isPrime_list[0])\n",
    "else:\n",
    "    print(-1)"
   ]
  },
  {
   "cell_type": "code",
   "execution_count": 10,
   "metadata": {},
   "outputs": [
    {
     "name": "stdout",
     "output_type": "stream",
     "text": [
      "6\n",
      "720\n"
     ]
    }
   ],
   "source": [
    "# 재귀 팩토리얼 10872\n",
    "N = int(input())\n",
    "def factorial(N):\n",
    "    if N == 0:\n",
    "        return 1\n",
    "    return N * factorial(N-1)\n",
    "print(factorial(N))"
   ]
  },
  {
   "cell_type": "code",
   "execution_count": 11,
   "metadata": {},
   "outputs": [
    {
     "name": "stdout",
     "output_type": "stream",
     "text": [
      "10\n",
      "55\n"
     ]
    }
   ],
   "source": [
    "# 재귀 피보나치 수5 10870 \n",
    "n = int(input()) # 사용자로부터 입력받을 피보나치 인덱스\n",
    "\n",
    "def fibo(n):\n",
    "    if n == 0:\n",
    "        return 0\n",
    "    if n == 1:\n",
    "        return 1\n",
    "    else:\n",
    "        return fibo(n-2) + fibo(n-1)\n",
    "print(fibo(n))"
   ]
  },
  {
   "cell_type": "code",
   "execution_count": 13,
   "metadata": {},
   "outputs": [
    {
     "name": "stdout",
     "output_type": "stream",
     "text": [
      "10 500\n",
      "93 181 245 214 315 36 185 138 216 295\n",
      "497\n"
     ]
    }
   ],
   "source": [
    "# 브루트 포스 블랙잭 2798\n",
    "# 블랙잭 N개의 카드 중 3장을 골랐을 때 M을 넘지 않는 3장의 최대합을 출력하는 문제\n",
    "# 파이썬 itertools 모듈을 이용한 풀이\n",
    "from itertools import combinations # 조합을 이용\n",
    "# 카드의 개수 N (3 <= N <= 100), 카드의 합 M(10 <= M <= 300,000)\n",
    "N, M = map(int, input().split())\n",
    "card_list = list(map(int, input().split())) # 카드 뭉치\n",
    "sum_list = []\n",
    "\n",
    "for i in list(combinations(card_list, 3)): # N개의 카드 뭉치에서 3장의 조합을 모두 반본묵에 넣어줌\n",
    "    if sum(i) <= M: # 카드 3장의 총합이 M보다 작거나 같으면 리스트에 추가\n",
    "        sum_list.append(sum(i))\n",
    "print(max(sum_list)) # 가장 큰 값을 출력"
   ]
  },
  {
   "cell_type": "code",
   "execution_count": 14,
   "metadata": {},
   "outputs": [
    {
     "name": "stdout",
     "output_type": "stream",
     "text": [
      "216\n",
      "198\n"
     ]
    }
   ],
   "source": [
    "# 브루트포스 분해합 2231\n",
    "N = int(input())  # 정수 N 입력 받음\n",
    "for i in range(1, N+1):  # N보다 작은 수까지 완전 탐색을 진행\n",
    "    num = str(i)  # 자리수의 합을 위해서 문자열로 변환한 값을 num에 저장\n",
    "    count = i  # 생성수를 만들기 위해서 count 변수에 i를 대입\n",
    "    for j in range(len(num)):  # num의 자리수만큼 반복\n",
    "        count += int(num[j])  # 일의 자리수부터 덧셈\n",
    "    if count == N:  # 생성수의 값이 N값과 동일하다면\n",
    "        print(i)  # N의 생성수 i를 출력\n",
    "        break  # 반복문을 종료\n",
    "if i == N:  # 반복문을 다 돌았는데 없으면 해당 수는 생성수가 존재하지 않음\n",
    "    print(0)  # 0 출력\n"
   ]
  },
  {
   "cell_type": "code",
   "execution_count": null,
   "metadata": {},
   "outputs": [],
   "source": []
  }
 ],
 "metadata": {
  "kernelspec": {
   "display_name": "Python 3",
   "language": "python",
   "name": "python3"
  },
  "language_info": {
   "codemirror_mode": {
    "name": "ipython",
    "version": 3
   },
   "file_extension": ".py",
   "mimetype": "text/x-python",
   "name": "python",
   "nbconvert_exporter": "python",
   "pygments_lexer": "ipython3",
   "version": "3.8.3"
  },
  "toc": {
   "base_numbering": 1,
   "nav_menu": {},
   "number_sections": true,
   "sideBar": true,
   "skip_h1_title": false,
   "title_cell": "Table of Contents",
   "title_sidebar": "Contents",
   "toc_cell": false,
   "toc_position": {},
   "toc_section_display": true,
   "toc_window_display": false
  },
  "varInspector": {
   "cols": {
    "lenName": 16,
    "lenType": 16,
    "lenVar": 40
   },
   "kernels_config": {
    "python": {
     "delete_cmd_postfix": "",
     "delete_cmd_prefix": "del ",
     "library": "var_list.py",
     "varRefreshCmd": "print(var_dic_list())"
    },
    "r": {
     "delete_cmd_postfix": ") ",
     "delete_cmd_prefix": "rm(",
     "library": "var_list.r",
     "varRefreshCmd": "cat(var_dic_list()) "
    }
   },
   "types_to_exclude": [
    "module",
    "function",
    "builtin_function_or_method",
    "instance",
    "_Feature"
   ],
   "window_display": false
  }
 },
 "nbformat": 4,
 "nbformat_minor": 4
}
