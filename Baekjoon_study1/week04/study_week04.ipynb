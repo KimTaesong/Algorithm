{
 "cells": [
  {
   "cell_type": "code",
   "execution_count": 4,
   "metadata": {},
   "outputs": [
    {
     "name": "stdout",
     "output_type": "stream",
     "text": [
      "15\n",
      "push 1\n",
      "push 2\n",
      "front\n",
      "back\n",
      "size\n",
      "empty\n",
      "pop\n",
      "pop\n",
      "pop\n",
      "size\n",
      "empty\n",
      "pop\n",
      "push 3\n",
      "empty\n",
      "front\n",
      "1\n",
      "2\n",
      "2\n",
      "0\n",
      "1\n",
      "2\n",
      "-1\n",
      "0\n",
      "1\n",
      "-1\n",
      "0\n",
      "3\n"
     ]
    }
   ],
   "source": [
    "# 큐 2 18258\n",
    "from collections import deque\n",
    "import sys\n",
    "N = int(sys.stdin.readline()) # 명령의 수\n",
    "answer = []\n",
    "queue = deque()\n",
    "for i in range(N):\n",
    "    command = sys.stdin.readline().rstrip().split() # 명령어\n",
    "    cmd = command[0]\n",
    "    if cmd == 'push':\n",
    "        queue.append(int(command[1]))\n",
    "    if cmd == 'front':\n",
    "        if queue:\n",
    "            answer.append(queue[0])\n",
    "        else:\n",
    "            answer.append(-1)\n",
    "    if cmd == 'back':\n",
    "        if queue:\n",
    "            answer.append(queue[-1])\n",
    "        else:\n",
    "            answer.append(-1)\n",
    "    if cmd == 'empty':\n",
    "        if queue:\n",
    "            answer.append(0)\n",
    "        else:\n",
    "            answer.append(1)\n",
    "    if cmd == 'pop':\n",
    "        if queue:\n",
    "            pop_num = queue.popleft()\n",
    "            answer.append(pop_num)\n",
    "        else:\n",
    "            answer.append(-1)\n",
    "    if cmd == 'size':\n",
    "        answer.append(len(queue))\n",
    "\n",
    "for _ in answer:\n",
    "    print(_)\n",
    "\n",
    "# # 큐 2 18258\n",
    "# from collections import deque\n",
    "# N = int(input()) # 명령의 수\n",
    "# answer = []\n",
    "# queue = deque()\n",
    "# for i in range(N):\n",
    "#     command = input().split() # 명령어\n",
    "#     cmd = command[0]\n",
    "#     if cmd == 'push':\n",
    "#         queue.append(int(command[1]))\n",
    "#     if cmd == 'front':\n",
    "#         if queue:\n",
    "#             print(queue[0])\n",
    "#         else:\n",
    "#             print(-1)\n",
    "#     if cmd == 'back':\n",
    "#         if queue:\n",
    "#             print(queue[-1])\n",
    "#         else:\n",
    "#             print(-1)\n",
    "#     if cmd == 'empty':\n",
    "#         if queue:\n",
    "#             print(0)\n",
    "#         else:\n",
    "#             print(1)\n",
    "#     if cmd == 'pop':\n",
    "#         if queue:\n",
    "#             pop_num = queue.popleft()\n",
    "#             print(pop_num)\n",
    "#         else:\n",
    "#             print(-1)\n",
    "#     if cmd == 'size':\n",
    "#         print(len(queue))\n",
    "        "
   ]
  },
  {
   "cell_type": "code",
   "execution_count": 12,
   "metadata": {},
   "outputs": [
    {
     "name": "stdout",
     "output_type": "stream",
     "text": [
      "6\n",
      "4\n"
     ]
    }
   ],
   "source": [
    "# BOJ 카드2 2164 - 덱으로 문제 해결\n",
    "from collections import deque\n",
    "queue = deque()\n",
    "N = int(input())\n",
    "last_card = 0\n",
    "for i in range(1, N+1):\n",
    "    queue.append(i)\n",
    "\n",
    "def last_card_print(queue):\n",
    "    while queue:\n",
    "        if(len(queue) == 1):\n",
    "            return queue.popleft()\n",
    "        elif(len(queue) == 2):\n",
    "            return queue.pop()\n",
    "        else:\n",
    "            trash_card = queue.popleft()\n",
    "            bottom_card = queue.popleft()\n",
    "            queue.append(bottom_card)\n",
    "\n",
    "print(last_card_print(queue))\n",
    "\n",
    "# # BOJ 카드2 2164 - 스택으로 풀면 시간 초과\n",
    "# stack = []\n",
    "# N = int(input())\n",
    "# last_card = 0\n",
    "# for i in range(1,N+1):\n",
    "#     stack.append(i)\n",
    "\n",
    "# def last_card_print(stack):\n",
    "#     while stack:\n",
    "#         if(len(stack) == 1):\n",
    "#             return stack.pop()\n",
    "#         elif(len(stack) == 2):\n",
    "#             return stack.pop()\n",
    "#         else:\n",
    "#             trash_card = stack.pop(0)\n",
    "#             bottom_card = stack.pop(0)\n",
    "#             stack.append(bottom_card)\n",
    "\n",
    "# print(last_card_print(stack))\n"
   ]
  },
  {
   "cell_type": "code",
   "execution_count": null,
   "metadata": {},
   "outputs": [],
   "source": []
  }
 ],
 "metadata": {
  "kernelspec": {
   "display_name": "Python 3",
   "language": "python",
   "name": "python3"
  },
  "language_info": {
   "codemirror_mode": {
    "name": "ipython",
    "version": 3
   },
   "file_extension": ".py",
   "mimetype": "text/x-python",
   "name": "python",
   "nbconvert_exporter": "python",
   "pygments_lexer": "ipython3",
   "version": "3.8.3"
  },
  "toc": {
   "base_numbering": 1,
   "nav_menu": {},
   "number_sections": true,
   "sideBar": true,
   "skip_h1_title": false,
   "title_cell": "Table of Contents",
   "title_sidebar": "Contents",
   "toc_cell": false,
   "toc_position": {},
   "toc_section_display": true,
   "toc_window_display": false
  },
  "varInspector": {
   "cols": {
    "lenName": 16,
    "lenType": 16,
    "lenVar": 40
   },
   "kernels_config": {
    "python": {
     "delete_cmd_postfix": "",
     "delete_cmd_prefix": "del ",
     "library": "var_list.py",
     "varRefreshCmd": "print(var_dic_list())"
    },
    "r": {
     "delete_cmd_postfix": ") ",
     "delete_cmd_prefix": "rm(",
     "library": "var_list.r",
     "varRefreshCmd": "cat(var_dic_list()) "
    }
   },
   "types_to_exclude": [
    "module",
    "function",
    "builtin_function_or_method",
    "instance",
    "_Feature"
   ],
   "window_display": false
  }
 },
 "nbformat": 4,
 "nbformat_minor": 4
}
