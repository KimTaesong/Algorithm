g{
 "cells": [
  {
   "cell_type": "code",
   "execution_count": 1,
   "metadata": {},
   "outputs": [
    {
     "name": "stdout",
     "output_type": "stream",
     "text": [
      "88\n",
      "2\n"
     ]
    }
   ],
   "source": [
    "# 1. 근우의 다이어리 16676\n",
    "N = int(input())\n",
    "count = 1\n",
    "S = N\n",
    "while S >= 10:\n",
    "    S = S // 10\n",
    "    count += 1\n",
    "\n",
    "limit_num = 1\n",
    "for i in range(1,count):\n",
    "    limit_num += 10 ** (i)\n",
    "if N == 0:\n",
    "    print(count)\n",
    "elif N >= limit_num:\n",
    "    print(count)\n",
    "else:\n",
    "    print(count-1)"
   ]
  },
  {
   "cell_type": "code",
   "execution_count": 3,
   "metadata": {},
   "outputs": [
    {
     "name": "stdout",
     "output_type": "stream",
     "text": [
      "6\n",
      "8 4\n",
      "13 19\n",
      "8 10\n",
      "18 18\n",
      "8 25\n",
      "13 16\n",
      "1780000\n",
      "620000\n",
      "1140000\n",
      "420000\n",
      "820000\n",
      "620000\n"
     ]
    }
   ],
   "source": [
    "# 2. 상금헌터 15953 - 하드 코딩......\n",
    "c_2017 = [500,300,200,50,30,10]\n",
    "code_2017 = []\n",
    "for i in range(len(c_2017)):\n",
    "    for j in range(i+1):\n",
    "        code_2017.append(c_2017[i])\n",
    "\n",
    "c_2018 = [512, 256, 128, 64, 32]\n",
    "code_2018 = []\n",
    "for i in range(len(c_2018)):\n",
    "    for j in range(i*i+1):\n",
    "        code_2018.append(c_2018[i])\n",
    "        \n",
    "# code_2017 = [500, 300, 300, 200, 200, 200, 50, 50, 50, 50, 30, 30, 30, 30, 30, 10, 10, 10, 10, 10, 10]\n",
    "# code_2018 = [512, 256, 256, 128, 128, 128, 128, 64, 64, 64, 64, 64, 64, 64, 64, 32, 32, 32,32, 32, 32, 32, 32, 32, 32, 32, 32, 32, 32, 32 ,32]\n",
    "\n",
    "T = int(input())\n",
    "reward_list = []\n",
    "for i in range(T):\n",
    "    count = 0\n",
    "    a, b = map(int, input().split())\n",
    "    if a!= 0 and a <= len(code_2017):\n",
    "        count += code_2017[a-1]\n",
    "    if b != 0 and b <= len(code_2018):\n",
    "        count += code_2018[b-1]\n",
    "    reward_list.append(count)\n",
    "\n",
    "for k in range(T):\n",
    "    print(reward_list[k] * 10000)"
   ]
  },
  {
   "cell_type": "code",
   "execution_count": 4,
   "metadata": {},
   "outputs": [
    {
     "name": "stdout",
     "output_type": "stream",
     "text": [
      "3 3 6\n",
      "1300\n"
     ]
    }
   ],
   "source": [
    "#3. 주사위 세개 2480\n",
    "# 주사위 3개에 나온 눈 a, b, c (1<= a, b, c <= 6)\n",
    "# reward 게임의 상금을 출력\n",
    "nums = list(map(int, input().split()))\n",
    "a = nums[0]\n",
    "b = nums[1]\n",
    "c = nums[2]\n",
    "\n",
    "reward = 0 # 게임의 상금\n",
    "\n",
    "# 같은 눈이 3개가 나오는 경우\n",
    "if a == b == c:\n",
    "    reward = 10000 + a * 1000\n",
    "\n",
    "elif (a == b and a != c) or (a == c and b!= c) or (b == c and a != c):\n",
    "    if a == b:\n",
    "        reward = 1000 + a * 100\n",
    "    if a == c:\n",
    "        reward = 1000 + a * 100\n",
    "    if b == c:\n",
    "        reward = 1000 + b * 100\n",
    "    \n",
    "\n",
    "else:\n",
    "    reward = max(nums) * 100\n",
    "\n",
    "print(reward)"
   ]
  },
  {
   "cell_type": "code",
   "execution_count": 5,
   "metadata": {},
   "outputs": [
    {
     "name": "stdout",
     "output_type": "stream",
     "text": [
      "16 11\n",
      "255 252 255 255 254 255 249 255 248 245 255 244 254 255 249 255 241 255 255 237 255 255 244 253 255 255 239 255 255 243 255 249 255\n",
      "255 246 255 238 255 251 213 255 241 83 145 106 229 255 242 235 255 255 223 255 255 226 255 255 244 255 253 255 250 248 255 251 255\n",
      "255 244 255 230 255 248 191 255 224 64 161 92 74 152 100 191 255 236 178 255 244 55 158 115 222 255 249 254 255 253 255 255 251\n",
      "251 248 255 244 255 248 92 147 92 74 163 83 60 168 83 53 165 89 59 166 96 64 161 94 77 155 97 223 255 234 241 255 246\n",
      "240 255 255 255 251 255 255 253 241 217 255 217 60 170 83 64 160 86 216 255 220 219 255 220 62 161 79 69 161 96 238 255 251\n",
      "240 255 253 255 246 255 255 249 255 227 255 246 193 255 216 74 156 94 226 255 241 91 148 115 63 159 98 199 255 230 239 255 250\n",
      "254 255 253 248 255 255 238 255 255 224 255 245 92 153 93 82 153 85 208 255 235 207 255 250 218 255 251 237 255 248 252 255 253\n",
      "255 246 255 252 255 246 241 255 224 122 137 78 117 131 52 75 115 19 94 150 61 112 139 88 255 247 243 255 237 255 255 248 255\n",
      "255 240 255 255 244 216 128 91 13 239 186 92 135 85 0 119 95 0 217 197 82 246 184 101 174 57 39 255 219 243 255 236 255\n",
      "255 229 250 150 68 47 177 65 2 255 158 83 255 161 92 255 177 101 165 73 0 194 57 0 221 43 15 195 45 56 255 235 253\n",
      "255 224 238 171 63 63 202 46 33 241 31 16 241 29 18 195 42 28 169 57 37 255 213 193 230 27 20 215 40 45 255 231 239\n",
      "255 227 232 163 55 68 209 37 59 255 9 39 255 9 36 214 37 63 161 61 85 255 212 236 233 30 52 224 38 51 255 237 239\n",
      "255 240 236 149 58 65 212 36 56 255 15 40 255 15 36 210 35 52 160 58 79 173 50 78 215 30 61 202 39 58 255 240 243\n",
      "255 250 243 255 236 234 193 44 46 238 30 30 234 29 26 200 45 40 255 217 217 255 219 225 183 51 65 255 224 236 255 244 248\n",
      "243 255 249 255 246 242 255 230 228 171 56 53 179 54 48 180 53 47 173 54 50 158 63 61 255 237 236 255 248 249 255 255 255\n",
      "245 255 253 255 254 255 255 243 250 255 242 251 255 233 242 255 222 234 255 219 228 255 236 237 254 255 250 229 255 255 240 255 255\n",
      "...........\n",
      "...+.......\n",
      "...++..+...\n",
      "..+++++++..\n",
      "....++..++.\n",
      ".....+.++..\n",
      "....++.....\n",
      "...++o++...\n",
      "..o-oo--o..\n",
      ".oo---oooo.\n",
      ".oooooo.oo.\n",
      ".oooooo.oo.\n",
      ".ooooooooo.\n",
      "..oooo..o..\n",
      "...ooooo...\n",
      "...........\n"
     ]
    }
   ],
   "source": [
    "# 4. 17072 아스키아트 \n",
    "N, M = map(int, input().split())\n",
    "art = [[0  for i in range(M)] for _ in range(N)]\n",
    "for k in range(N):\n",
    "    low = list(map(int, input().split()))\n",
    "    for j in range(M):\n",
    "        art[k][j] = (2126 * low[3*j] + 7152 * low[3*j+1] + 722 * low[3*j+2]) // 10000\n",
    "        if art[k][j] < 51:\n",
    "            art[k][j] = chr(35)\n",
    "        elif art[k][j] >= 51 and art[k][j] < 102:\n",
    "            art[k][j] = chr(111)\n",
    "        elif 102 <= art[k][j] and art[k][j] < 153:\n",
    "            art[k][j] = chr(43)\n",
    "        elif 153 <= art[k][j] and art[k][j] < 204:\n",
    "            art[k][j] = chr(45)\n",
    "        else:\n",
    "            art[k][j] = chr(46)\n",
    "            \n",
    "for i in range(N):\n",
    "    for j in range(M):\n",
    "        print(art[i][j], end='')\n",
    "    print()\n",
    "\n"
   ]
  },
  {
   "cell_type": "code",
   "execution_count": 6,
   "metadata": {},
   "outputs": [
    {
     "name": "stdout",
     "output_type": "stream",
     "text": [
      "R S P R\n",
      "?\n",
      "R R S S\n",
      "MS\n",
      "P P S R\n",
      "TK\n"
     ]
    }
   ],
   "source": [
    "# 5. 16675 두 개의 손\n",
    "# 가위 > 보, 바위 > 보, 보 > 바위\n",
    "# 가위: S, 바위: R, 보: P\n",
    "# print(\"MS\") # 민성이가 무조건 이길 수 있다면\n",
    "# print(\"TK\") # 태경이가 무조건 이길 수 있다면\n",
    "# print(\"?\")  # 누가 이길 지 확답할 수 없다면\n",
    "for i in range(3):\n",
    "    MS_L, MS_R, TK_L, TK_R = input().split()\n",
    "\n",
    "\n",
    "    rps = ['R', 'S', 'P']\n",
    "    result = [\"?\", \"TK\", \"MS\"]\n",
    "\n",
    "    count = 0\n",
    "    if MS_L == MS_R == 'R' and (TK_L == 'P' or TK_R == 'P'):\n",
    "            count = 1\n",
    "    if MS_L == MS_R == 'S' and (TK_L == 'R' or TK_R == 'R'):\n",
    "            count = 1\n",
    "    if MS_L == MS_R == 'P' and (TK_L == 'S' or TK_R == 'S'):\n",
    "            count = 1\n",
    "\n",
    "    if TK_L == TK_R == 'R' and (MS_L == 'P' or MS_R == 'P'):\n",
    "            count = 2\n",
    "    if TK_L == TK_R == 'S' and (MS_L == 'R' or MS_R == 'R'):\n",
    "            count = 2\n",
    "    if TK_L == TK_R == 'P' and (MS_L == 'S' or MS_R == 'S'):\n",
    "            count = 2\n",
    "\n",
    "    print(result[count])"
   ]
  },
  {
   "cell_type": "code",
   "execution_count": 7,
   "metadata": {},
   "outputs": [
    {
     "name": "stdout",
     "output_type": "stream",
     "text": [
      "3 4\n",
      "twice\n",
      "9\n",
      "jihyo\n",
      "dahyeon\n",
      "mina\n",
      "momo\n",
      "chaeyoung\n",
      "jeongyeon\n",
      "tzuyu\n",
      "sana\n",
      "nayeon\n",
      "blackpink\n",
      "4\n",
      "jisu\n",
      "lisa\n",
      "rose\n",
      "jenny\n",
      "redvelvet\n",
      "5\n",
      "wendy\n",
      "irene\n",
      "seulgi\n",
      "yeri\n",
      "joy\n",
      "sana\n",
      "1\n",
      "wendy\n",
      "1\n",
      "twice\n",
      "0\n",
      "rose\n",
      "1\n",
      "twice\n",
      "redvelvet\n",
      "chaeyoung\n",
      "dahyeon\n",
      "jeongyeon\n",
      "jihyo\n",
      "mina\n",
      "momo\n",
      "nayeon\n",
      "sana\n",
      "tzuyu\n",
      "blackpink\n"
     ]
    }
   ],
   "source": [
    "# 6. 16165  걸그룹 마스터 준석이\n",
    "N, M = map(int, input().split())\n",
    "girl_groups = {}\n",
    "for i in range(N):\n",
    "    group_name = input()\n",
    "    members = []\n",
    "    for j in range(int(input())):\n",
    "        member = input()\n",
    "        members.append(member)\n",
    "    members.sort()\n",
    "    girl_groups[group_name] = members\n",
    "girlgroup_name = list(girl_groups.keys())\n",
    "answer = []\n",
    "for k in range(M):\n",
    "    quiz = input()\n",
    "    quiz_num = input()\n",
    "    if quiz_num == '0':\n",
    "        for i in girl_groups[quiz]:\n",
    "            answer.append(i)\n",
    "    else:\n",
    "        for i in girlgroup_name:\n",
    "            if girl_groups[i].count(quiz):\n",
    "                answer.append(i)\n",
    "for i in answer:\n",
    "    print(i)"
   ]
  },
  {
   "cell_type": "code",
   "execution_count": 8,
   "metadata": {},
   "outputs": [
    {
     "name": "stdout",
     "output_type": "stream",
     "text": [
      "3\n",
      "3 bottles of beer on the wall, 3 bottles of beer.\n",
      "Take one down and pass it around, 2 bottles of beer on the wall.\n",
      "\n",
      "2 bottles of beer on the wall, 2 bottles of beer.\n",
      "Take one down and pass it around, 1 bottle of beer on the wall.\n",
      "\n",
      "1 bottle of beer on the wall, 1 bottle of beer.\n",
      "Take one down and pass it around, no more bottles of beer on the wall.\n",
      "\n",
      "No more bottles of beer on the wall, no more bottles of beer.\n",
      "Go to the store and buy some more, 3 bottles of beer on the wall.\n",
      "\n"
     ]
    }
   ],
   "source": [
    "# 7. 17293  맥주 99병\n",
    "N = int(input())\n",
    "\n",
    "for i in range(N,-1,-1):\n",
    "    if i == 0: \n",
    "        if N > 1:\n",
    "            word = 'bottles'     \n",
    "        else:\n",
    "            word = 'bottle'\n",
    "        print(\"No more bottles of beer on the wall, no more bottles of beer.\")\n",
    "        print(\"Go to the store and buy some more, %d %s of beer on the wall.\" %(N, word))\n",
    "    elif i == 1:\n",
    "        print(\"1 bottle of beer on the wall, 1 bottle of beer.\")\n",
    "        print(\"Take one down and pass it around, no more bottles of beer on the wall.\")\n",
    "    else:\n",
    "        if i == 2:\n",
    "            up_word = 'bottles'\n",
    "            down_word = 'bottle'\n",
    "        else:\n",
    "            up_word = 'bottles'\n",
    "            down_word = 'bottles'\n",
    "        print(\"%d bottles of beer on the wall, %d %s of beer.\" %(i, i, up_word))\n",
    "        print(\"Take one down and pass it around, %d %s of beer on the wall.\" %(i-1,down_word))\n",
    "    print()"
   ]
  },
  {
   "cell_type": "code",
   "execution_count": 11,
   "metadata": {},
   "outputs": [
    {
     "name": "stdout",
     "output_type": "stream",
     "text": [
      "1\n",
      "2\n",
      "2 \n",
      "4\n",
      "3 2 3 5\n",
      "3 1 5 11 \n",
      "5\n",
      "1 2 2 3 4\n",
      "1 3 2 6 8 \n"
     ]
    }
   ],
   "source": [
    "# 8. 10539  수빈이와 수열\n",
    "for j in range(3):\n",
    "    N = int(input())\n",
    "\n",
    "    B_list = list(map(int, input().split())) # 수열 B가 입력으로 주어짐\n",
    "    count = 0\n",
    "    A_list = [B_list[0]]\n",
    "    for i in range(1, len(B_list)):\n",
    "        count = B_list[i] * (i+1) - B_list[i-1] * (i)\n",
    "        A_list.append(count)\n",
    "\n",
    "    for k in A_list:\n",
    "        print(k, end=' ')\n",
    "    print()\n"
   ]
  },
  {
   "cell_type": "code",
   "execution_count": 12,
   "metadata": {},
   "outputs": [
    {
     "name": "stdout",
     "output_type": "stream",
     "text": [
      "8\n",
      "XOOOXOOX\n",
      "26\n"
     ]
    }
   ],
   "source": [
    "# 9. 17389  보너스 점수\n",
    "N = int(input()) # 문자열 S의 길이\n",
    "S = input() # 문자열 S\n",
    "count = 0 # 총 점수\n",
    "bonus = 0 # 보너스 점수\n",
    "for i in range(N):\n",
    "    if S[i] == 'O':\n",
    "        count += (i+1) + bonus # 기본 점수 + 현재 보너스 점수를 더한다\n",
    "        bonus += 1 # 보너스 점수를 1 증가\n",
    "    else: \n",
    "        bonus = 0 # X를 만나면 보너스 점수를 0으로 초기화\n",
    "print(count)"
   ]
  },
  {
   "cell_type": "code",
   "execution_count": 13,
   "metadata": {},
   "outputs": [
    {
     "name": "stdout",
     "output_type": "stream",
     "text": [
      "0001100\n",
      "1\n"
     ]
    }
   ],
   "source": [
    "# 10. 1439  뒤집기\n",
    "S = input()\n",
    "zero_pointer = 0 # 0으로 뒤집는 횟수\n",
    "one_pointer = 0 # 1로 뒤집는 횟수\n",
    "\n",
    "for i in range(len(S)-1):\n",
    "    if S[i] == S[i+1]:\n",
    "        if S[i] == '0':\n",
    "            pass\n",
    "        else:\n",
    "            pass\n",
    "    else:\n",
    "        if S[i] == '1':\n",
    "            one_pointer += 1\n",
    "        else:\n",
    "            zero_pointer += 1\n",
    "if S[-1] == '1':\n",
    "    one_pointer += 1\n",
    "if S[-1] == '0':\n",
    "    zero_pointer += 1\n",
    "\n",
    "if one_pointer >= zero_pointer:\n",
    "    print(zero_pointer)\n",
    "else:\n",
    "    print(one_pointer)"
   ]
  },
  {
   "cell_type": "code",
   "execution_count": null,
   "metadata": {},
   "outputs": [],
   "source": []
  },
  {
   "cell_type": "code",
   "execution_count": null,
   "metadata": {},
   "outputs": [],
   "source": []
  }
 ],
 "metadata": {
  "kernelspec": {
   "display_name": "Python 3",
   "language": "python",
   "name": "python3"
  },
  "language_info": {
   "codemirror_mode": {
    "name": "ipython",
    "version": 3
   },
   "file_extension": ".py",
   "mimetype": "text/x-python",
   "name": "python",
   "nbconvert_exporter": "python",
   "pygments_lexer": "ipython3",
   "version": "3.8.3"
  },
  "toc": {
   "base_numbering": 1,
   "nav_menu": {},
   "number_sections": true,
   "sideBar": true,
   "skip_h1_title": false,
   "title_cell": "Table of Contents",
   "title_sidebar": "Contents",
   "toc_cell": false,
   "toc_position": {},
   "toc_section_display": true,
   "toc_window_display": false
  },
  "varInspector": {
   "cols": {
    "lenName": 16,
    "lenType": 16,
    "lenVar": 40
   },
   "kernels_config": {
    "python": {
     "delete_cmd_postfix": "",
     "delete_cmd_prefix": "del ",
     "library": "var_list.py",
     "varRefreshCmd": "print(var_dic_list())"
    },
    "r": {
     "delete_cmd_postfix": ") ",
     "delete_cmd_prefix": "rm(",
     "library": "var_list.r",
     "varRefreshCmd": "cat(var_dic_list()) "
    }
   },
   "types_to_exclude": [
    "module",
    "function",
    "builtin_function_or_method",
    "instance",
    "_Feature"
   ],
   "window_display": false
  }
 },
 "nbformat": 4,
 "nbformat_minor": 4
}